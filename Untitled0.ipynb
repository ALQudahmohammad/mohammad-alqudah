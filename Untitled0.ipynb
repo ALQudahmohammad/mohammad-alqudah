{
  "nbformat": 4,
  "nbformat_minor": 0,
  "metadata": {
    "colab": {
      "provenance": [],
      "include_colab_link": true
    },
    "kernelspec": {
      "name": "python3",
      "display_name": "Python 3"
    },
    "language_info": {
      "name": "python"
    }
  },
  "cells": [
    {
      "cell_type": "markdown",
      "metadata": {
        "id": "view-in-github",
        "colab_type": "text"
      },
      "source": [
        "<a href=\"https://colab.research.google.com/github/ALQudahmohammad/mohammad-alqudah/blob/main/Untitled0.ipynb\" target=\"_parent\"><img src=\"https://colab.research.google.com/assets/colab-badge.svg\" alt=\"Open In Colab\"/></a>"
      ]
    },
    {
      "cell_type": "markdown",
      "source": [
        "define variables\n"
      ],
      "metadata": {
        "id": "xK3MrBXzn0KG"
      }
    },
    {
      "cell_type": "code",
      "source": [
        "x = 10 \n",
        "y = 3.5\n",
        "z = 'abc'"
      ],
      "metadata": {
        "id": "om_yNRBqn1Vh"
      },
      "execution_count": null,
      "outputs": []
    },
    {
      "cell_type": "code",
      "source": [
        "print(x,y,z)"
      ],
      "metadata": {
        "colab": {
          "base_uri": "https://localhost:8080/"
        },
        "id": "z6OREPkDn5me",
        "outputId": "8954e969-23cc-407e-ec50-079612064ee7"
      },
      "execution_count": null,
      "outputs": [
        {
          "output_type": "stream",
          "name": "stdout",
          "text": [
            "10 3.5 abc\n"
          ]
        }
      ]
    },
    {
      "cell_type": "code",
      "source": [
        "print(type(x), type(y), type(z))\n"
      ],
      "metadata": {
        "colab": {
          "base_uri": "https://localhost:8080/"
        },
        "id": "NmDcElgAn8xZ",
        "outputId": "3c43b6fb-e974-49ab-c4a3-ab35d4dd9f04"
      },
      "execution_count": null,
      "outputs": [
        {
          "output_type": "stream",
          "name": "stdout",
          "text": [
            "<class 'int'> <class 'float'> <class 'str'>\n"
          ]
        }
      ]
    },
    {
      "cell_type": "markdown",
      "source": [
        "comments\n"
      ],
      "metadata": {
        "id": "k3Yttb4roFG8"
      }
    },
    {
      "cell_type": "code",
      "source": [
        "# this is a comment (one line)\n",
        "\n",
        "'''\n",
        "this is \n",
        "multiline \n",
        "comment\n",
        "'''\n",
        "print('hello')"
      ],
      "metadata": {
        "colab": {
          "base_uri": "https://localhost:8080/"
        },
        "id": "3whPHhS8oGef",
        "outputId": "3b43f56c-b745-4019-dbfa-7276e52c00f4"
      },
      "execution_count": null,
      "outputs": [
        {
          "output_type": "stream",
          "name": "stdout",
          "text": [
            "hello\n"
          ]
        }
      ]
    },
    {
      "cell_type": "markdown",
      "source": [
        "Lists in Python\n"
      ],
      "metadata": {
        "id": "qWneg9aNoRXq"
      }
    },
    {
      "cell_type": "code",
      "source": [
        "numbers = [1, 2, 3]\n",
        "things = [1, 4.6, 'abc']"
      ],
      "metadata": {
        "id": "FAvou52XoS_3"
      },
      "execution_count": null,
      "outputs": []
    },
    {
      "cell_type": "code",
      "source": [
        "numbers[1]"
      ],
      "metadata": {
        "colab": {
          "base_uri": "https://localhost:8080/"
        },
        "id": "r1Q7FCi5oZAi",
        "outputId": "c11f9c2b-47c9-4b88-85c1-67831e220974"
      },
      "execution_count": null,
      "outputs": [
        {
          "output_type": "execute_result",
          "data": {
            "text/plain": [
              "2"
            ]
          },
          "metadata": {},
          "execution_count": 26
        }
      ]
    },
    {
      "cell_type": "code",
      "source": [
        "things[2]"
      ],
      "metadata": {
        "colab": {
          "base_uri": "https://localhost:8080/",
          "height": 35
        },
        "id": "skbpAWk7oc0K",
        "outputId": "516db18c-d61b-44da-d7e3-94028a520777"
      },
      "execution_count": null,
      "outputs": [
        {
          "output_type": "execute_result",
          "data": {
            "text/plain": [
              "'abc'"
            ],
            "application/vnd.google.colaboratory.intrinsic+json": {
              "type": "string"
            }
          },
          "metadata": {},
          "execution_count": 27
        }
      ]
    },
    {
      "cell_type": "markdown",
      "source": [
        "Tuple (immutable list)\n"
      ],
      "metadata": {
        "id": "rhFty_tBojXZ"
      }
    },
    {
      "cell_type": "code",
      "source": [
        "point = (2, 3)\n",
        "point[0]"
      ],
      "metadata": {
        "colab": {
          "base_uri": "https://localhost:8080/"
        },
        "id": "SO7PPTW6okdL",
        "outputId": "a3af366a-f41e-4f3e-8bf2-a34923117840"
      },
      "execution_count": null,
      "outputs": [
        {
          "output_type": "execute_result",
          "data": {
            "text/plain": [
              "2"
            ]
          },
          "metadata": {},
          "execution_count": 28
        }
      ]
    },
    {
      "cell_type": "markdown",
      "source": [
        "Dictionary\n"
      ],
      "metadata": {
        "id": "OOOTMvnLovBQ"
      }
    },
    {
      "cell_type": "code",
      "source": [
        "bag = {'pen': 3, 'tissues': 10, 'candy': 3, 'book': 1}"
      ],
      "metadata": {
        "id": "nxNPaheEowCZ"
      },
      "execution_count": null,
      "outputs": []
    },
    {
      "cell_type": "code",
      "source": [
        "bag['book']"
      ],
      "metadata": {
        "colab": {
          "base_uri": "https://localhost:8080/"
        },
        "id": "mVHtyn2io1Hw",
        "outputId": "4e6615d0-5c82-4908-ee2b-b9831c4a3aef"
      },
      "execution_count": null,
      "outputs": [
        {
          "output_type": "execute_result",
          "data": {
            "text/plain": [
              "1"
            ]
          },
          "metadata": {},
          "execution_count": 30
        }
      ]
    },
    {
      "cell_type": "code",
      "source": [
        "bag['candy']"
      ],
      "metadata": {
        "colab": {
          "base_uri": "https://localhost:8080/"
        },
        "id": "tjsNlN30o2nE",
        "outputId": "8e0e10c9-f599-44c2-aa65-d68e9fa70f8d"
      },
      "execution_count": null,
      "outputs": [
        {
          "output_type": "execute_result",
          "data": {
            "text/plain": [
              "3"
            ]
          },
          "metadata": {},
          "execution_count": 31
        }
      ]
    },
    {
      "cell_type": "markdown",
      "source": [
        "loops and decisions\n"
      ],
      "metadata": {
        "id": "PR7YcTXBo7WA"
      }
    },
    {
      "cell_type": "code",
      "source": [
        "range(5)\n"
      ],
      "metadata": {
        "colab": {
          "base_uri": "https://localhost:8080/"
        },
        "id": "qP3BBRP7o9Mj",
        "outputId": "d94e9a08-3b63-4f62-affc-6447a86c4032"
      },
      "execution_count": null,
      "outputs": [
        {
          "output_type": "execute_result",
          "data": {
            "text/plain": [
              "range(0, 5)"
            ]
          },
          "metadata": {},
          "execution_count": 32
        }
      ]
    },
    {
      "cell_type": "code",
      "source": [
        "list(range(5))\n"
      ],
      "metadata": {
        "colab": {
          "base_uri": "https://localhost:8080/"
        },
        "id": "cVdTiYpPpB7R",
        "outputId": "0bf05724-5365-4740-c411-b3958571799c"
      },
      "execution_count": null,
      "outputs": [
        {
          "output_type": "execute_result",
          "data": {
            "text/plain": [
              "[0, 1, 2, 3, 4]"
            ]
          },
          "metadata": {},
          "execution_count": 33
        }
      ]
    },
    {
      "cell_type": "code",
      "source": [
        "for i in range(5):\n",
        "  print(i)"
      ],
      "metadata": {
        "colab": {
          "base_uri": "https://localhost:8080/"
        },
        "id": "-FkP8zYopLxp",
        "outputId": "eb29713b-c018-47b9-e05e-147d798e1b14"
      },
      "execution_count": null,
      "outputs": [
        {
          "output_type": "stream",
          "name": "stdout",
          "text": [
            "0\n",
            "1\n",
            "2\n",
            "3\n",
            "4\n"
          ]
        }
      ]
    },
    {
      "cell_type": "code",
      "source": [
        "print(things)\n"
      ],
      "metadata": {
        "colab": {
          "base_uri": "https://localhost:8080/"
        },
        "id": "uIU05zKnpQmD",
        "outputId": "53232a63-9d68-4a7e-9772-97c388628c7e"
      },
      "execution_count": null,
      "outputs": [
        {
          "output_type": "stream",
          "name": "stdout",
          "text": [
            "[1, 4.6, 'abc']\n"
          ]
        }
      ]
    },
    {
      "cell_type": "code",
      "source": [
        "for thing in things:\n",
        "  print(thing)"
      ],
      "metadata": {
        "colab": {
          "base_uri": "https://localhost:8080/"
        },
        "id": "ztckXffbpUxR",
        "outputId": "f320e905-0328-448b-b494-e65128f9b58c"
      },
      "execution_count": null,
      "outputs": [
        {
          "output_type": "stream",
          "name": "stdout",
          "text": [
            "1\n",
            "4.6\n",
            "abc\n"
          ]
        }
      ]
    },
    {
      "cell_type": "code",
      "source": [
        "import random \n",
        "#Generate 10 random numbers between -100 and 100\n",
        "random_list = random.sample(range(-100, 100), 10)\n",
        "print(random_list)"
      ],
      "metadata": {
        "colab": {
          "base_uri": "https://localhost:8080/"
        },
        "id": "UWMbQtetpXoD",
        "outputId": "6db80a9f-274b-41dc-fd61-237bdf6ff810"
      },
      "execution_count": null,
      "outputs": [
        {
          "output_type": "stream",
          "name": "stdout",
          "text": [
            "[54, -74, -45, -56, 50, 70, -85, 11, 67, 3]\n"
          ]
        }
      ]
    },
    {
      "cell_type": "markdown",
      "source": [
        "Decision\n"
      ],
      "metadata": {
        "id": "kIXNG6CMpcYo"
      }
    },
    {
      "cell_type": "code",
      "source": [
        "for number in random_list:\n",
        "  if number > 0:\n",
        "    print(number)"
      ],
      "metadata": {
        "colab": {
          "base_uri": "https://localhost:8080/"
        },
        "id": "cdEWitxIpdGE",
        "outputId": "ef0c48f5-5d22-42c4-e7d2-c1a0ff1df97e"
      },
      "execution_count": null,
      "outputs": [
        {
          "output_type": "stream",
          "name": "stdout",
          "text": [
            "54\n",
            "50\n",
            "70\n",
            "11\n",
            "67\n",
            "3\n"
          ]
        }
      ]
    },
    {
      "cell_type": "markdown",
      "source": [
        "Classes and objects\n",
        "Rectangle class"
      ],
      "metadata": {
        "id": "mgd_QSwGpguK"
      }
    },
    {
      "cell_type": "code",
      "source": [
        "class Rectangle:\n",
        "  def __init__(self, length, width):\n",
        "      self.length = length\n",
        "      self.width = width\n",
        "\n",
        "  def area(self):\n",
        "      return self.length * self.width\n",
        "\n",
        "  def perimeter(self):\n",
        "      return 2 * (self.length + self.width) \n",
        "\n",
        "  def __str__(self):\n",
        "    return 'length: {} \\t width:{}'.format(self.length, self.width)"
      ],
      "metadata": {
        "id": "NTjiImvZplIc"
      },
      "execution_count": null,
      "outputs": []
    },
    {
      "cell_type": "code",
      "source": [
        "r1 = Rectangle(length=4, width=4) # rectangle\n",
        "print(r1)\n",
        "print(r1.area())\n",
        "print(r1.perimeter())"
      ],
      "metadata": {
        "colab": {
          "base_uri": "https://localhost:8080/"
        },
        "id": "WMgSFscvpq5Q",
        "outputId": "d7dcee57-1d24-4a0e-ccf1-6ec895ce0d81"
      },
      "execution_count": null,
      "outputs": [
        {
          "output_type": "stream",
          "name": "stdout",
          "text": [
            "length: 4 \t width:4\n",
            "16\n",
            "16\n"
          ]
        }
      ]
    },
    {
      "cell_type": "markdown",
      "source": [
        "inheritance\n",
        "Square class"
      ],
      "metadata": {
        "id": "5Q_VtH4FpxM9"
      }
    },
    {
      "cell_type": "code",
      "source": [
        "#  Here we declare that the Square class inherits from the Rectangle class\n",
        "class Square(Rectangle):\n",
        "    def __init__(self, x):\n",
        "        super().__init__(x, x)\n",
        "        \n",
        "s2 = Square(3)\n",
        "print(s2)\n",
        "print(s2.area())\n",
        "print(s2.perimeter())"
      ],
      "metadata": {
        "colab": {
          "base_uri": "https://localhost:8080/"
        },
        "id": "DfM26rp_pyla",
        "outputId": "8acbffe3-08c1-4915-be54-93881aa81870"
      },
      "execution_count": null,
      "outputs": [
        {
          "output_type": "stream",
          "name": "stdout",
          "text": [
            "length: 3 \t width:3\n",
            "9\n",
            "12\n"
          ]
        }
      ]
    }
  ]
}